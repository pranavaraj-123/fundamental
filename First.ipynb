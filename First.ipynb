{
 "cells": [
  {
   "cell_type": "code",
   "execution_count": null,
   "metadata": {},
   "outputs": [],
   "source": [
    "'hi'"
   ]
  },
  {
   "cell_type": "code",
   "execution_count": null,
   "metadata": {},
   "outputs": [],
   "source": []
  },
  {
   "cell_type": "code",
   "execution_count": null,
   "metadata": {},
   "outputs": [],
   "source": [
    "'welcome'"
   ]
  },
  {
   "cell_type": "code",
   "execution_count": null,
   "metadata": {},
   "outputs": [],
   "source": [
    "6+2"
   ]
  },
  {
   "cell_type": "code",
   "execution_count": null,
   "metadata": {},
   "outputs": [],
   "source": [
    "64+65+25"
   ]
  },
  {
   "cell_type": "code",
   "execution_count": null,
   "metadata": {},
   "outputs": [],
   "source": []
  },
  {
   "cell_type": "code",
   "execution_count": null,
   "metadata": {},
   "outputs": [],
   "source": [
    "'welcome to python'"
   ]
  },
  {
   "cell_type": "code",
   "execution_count": null,
   "metadata": {},
   "outputs": [],
   "source": [
    "a=5\n",
    "print(a)"
   ]
  },
  {
   "cell_type": "code",
   "execution_count": null,
   "metadata": {},
   "outputs": [],
   "source": [
    "'welcome'"
   ]
  },
  {
   "cell_type": "code",
   "execution_count": 7,
   "metadata": {},
   "outputs": [],
   "source": [
    "input('enter name')"
   ]
  },
  {
   "cell_type": "code",
   "execution_count": null,
   "metadata": {},
   "outputs": [],
   "source": [
    "input('enter age')"
   ]
  },
  {
   "cell_type": "code",
   "execution_count": null,
   "metadata": {},
   "outputs": [],
   "source": [
    "a=input('entere a value')\n",
    "b=input('enter a value')\n",
    "c=a+b\n",
    "print(c)"
   ]
  },
  {
   "cell_type": "code",
   "execution_count": 5,
   "metadata": {},
   "outputs": [
    {
     "name": "stdout",
     "output_type": "stream",
     "text": [
      "counting:1\n",
      "counting:2\n",
      "counting:3\n",
      "counting:4\n",
      "counting:5\n",
      "counting:6\n"
     ]
    }
   ],
   "source": [
    "count=1\n",
    "while(count<=6):\n",
    "    print(f'counting:{count}')\n",
    "    count+=1\n",
    "    "
   ]
  },
  {
   "cell_type": "code",
   "execution_count": null,
   "metadata": {},
   "outputs": [],
   "source": [
    "courses=['c','c++','pytghon','dart']\n",
    "courses"
   ]
  },
  {
   "cell_type": "code",
   "execution_count": 3,
   "metadata": {},
   "outputs": [
    {
     "ename": "NameError",
     "evalue": "name 'courses' is not defined",
     "output_type": "error",
     "traceback": [
      "\u001b[0;31m---------------------------------------------------------------------------\u001b[0m",
      "\u001b[0;31mNameError\u001b[0m                                 Traceback (most recent call last)",
      "Cell \u001b[0;32mIn[3], line 1\u001b[0m\n\u001b[0;32m----> 1\u001b[0m \u001b[38;5;28;01mfor\u001b[39;00m result \u001b[38;5;129;01min\u001b[39;00m \u001b[43mcourses\u001b[49m:\n\u001b[1;32m      2\u001b[0m     \u001b[38;5;28mprint\u001b[39m(result,end\u001b[38;5;241m=\u001b[39m\u001b[38;5;124m'\u001b[39m\u001b[38;5;124m,\u001b[39m\u001b[38;5;124m'\u001b[39m)\n",
      "\u001b[0;31mNameError\u001b[0m: name 'courses' is not defined"
     ]
    }
   ],
   "source": [
    "for result in courses:\n",
    "    print(result,end=',')"
   ]
  },
  {
   "cell_type": "code",
   "execution_count": null,
   "metadata": {},
   "outputs": [],
   "source": [
    "sentence='my name is pranav'\n",
    "for item in sentence:\n",
    "    print(item)"
   ]
  },
  {
   "cell_type": "code",
   "execution_count": null,
   "metadata": {},
   "outputs": [],
   "source": [
    "number=range(5)\n",
    "number"
   ]
  },
  {
   "cell_type": "code",
   "execution_count": null,
   "metadata": {},
   "outputs": [],
   "source": [
    "for number in range(5):\n",
    "    print(number)"
   ]
  },
  {
   "cell_type": "code",
   "execution_count": null,
   "metadata": {},
   "outputs": [],
   "source": [
    "number=range(6,16)\n",
    "number"
   ]
  },
  {
   "cell_type": "code",
   "execution_count": null,
   "metadata": {},
   "outputs": [],
   "source": [
    "for number in numbers:\n",
    "    print(number)"
   ]
  },
  {
   "cell_type": "code",
   "execution_count": null,
   "metadata": {},
   "outputs": [],
   "source": [
    "number=range(1,9,10)\n",
    "number"
   ]
  },
  {
   "cell_type": "code",
   "execution_count": null,
   "metadata": {},
   "outputs": [],
   "source": [
    "for number in numbers:\n",
    "    print(number)"
   ]
  },
  {
   "cell_type": "code",
   "execution_count": null,
   "metadata": {},
   "outputs": [],
   "source": [
    "a=[1,2,3,4]\n",
    "b=[5,6,7,8]\n",
    "for i in a:\n",
    "    for j in b:\n",
    "        print(1+j,end='')\n",
    "    print()    "
   ]
  },
  {
   "cell_type": "code",
   "execution_count": null,
   "metadata": {},
   "outputs": [],
   "source": [
    "for i in range(1,5):\n",
    "    for j in range(0,i):\n",
    "        print('*',end='')\n",
    "    print()    \n"
   ]
  },
  {
   "cell_type": "code",
   "execution_count": null,
   "metadata": {},
   "outputs": [],
   "source": [
    "brevarages=['pepsi','coco cola','7 up','miranda']\n",
    "for brevarage in brevarages:\n",
    "    if brevarage=='fanta':\n",
    "        print('fanta is available')\n",
    "        break\n",
    "        print(brevarages) "
   ]
  },
  {
   "cell_type": "code",
   "execution_count": null,
   "metadata": {},
   "outputs": [],
   "source": [
    "brevarages=['pepsi','coco cola','7 up','miranda']\n"
   ]
  },
  {
   "cell_type": "code",
   "execution_count": null,
   "metadata": {},
   "outputs": [],
   "source": [
    "for brevarage in brevarages:\n",
    "    if brevarage=='fanta':\n",
    "        continue\n",
    "    print(f'buy {brevarage}')\n"
   ]
  },
  {
   "cell_type": "code",
   "execution_count": null,
   "metadata": {},
   "outputs": [],
   "source": [
    "name=['arun','varun','pranav','arun','mani','arun']\n",
    "i=0\n",
    "c=0\n",
    "while(i<len(name)):\n",
    "    if (name[i]=='arun'):\n",
    "        c=c+1\n",
    "    i=i+1\n",
    "else:\n",
    "    print(f'no of time occur{c}')        \n"
   ]
  },
  {
   "cell_type": "code",
   "execution_count": null,
   "metadata": {},
   "outputs": [],
   "source": [
    "books=['tamil','english','maths']\n",
    "count=0\n",
    "while count<len(books):\n",
    "    if books[count]=='marathi':\n",
    "        print('marathi book found')\n",
    "    count+=1\n",
    "else:\n",
    "    print('book not available')        "
   ]
  },
  {
   "cell_type": "code",
   "execution_count": null,
   "metadata": {},
   "outputs": [],
   "source": [
    "books=['tamil','english','maths']\n",
    "for book in books:\n",
    "    if book=='marathi':\n",
    "        print('marathi book is available')\n",
    "    else:\n",
    "        print('book not available')    "
   ]
  },
  {
   "cell_type": "code",
   "execution_count": 2,
   "metadata": {},
   "outputs": [],
   "source": [
    "def add_user(name,mailid,phonenumber,age=17,city='cuddalore'):\n",
    "    user={\n",
    "        'firstname':name,\n",
    "        'mailid':mailid,\n",
    "        'phonenumber':phonenumber,\n",
    "        'age':age,\n",
    "        'city':city,\n",
    "    }\n",
    "    return user"
   ]
  },
  {
   "cell_type": "code",
   "execution_count": 4,
   "metadata": {},
   "outputs": [
    {
     "data": {
      "text/plain": [
       "{'firstname': 'pranavaraj',\n",
       " 'mailid': 'pranavaraj@gmail.com',\n",
       " 'phonenumber': '000000000',\n",
       " 'age': 17,\n",
       " 'city': 'pondicherry'}"
      ]
     },
     "execution_count": 4,
     "metadata": {},
     "output_type": "execute_result"
    }
   ],
   "source": [
    "add_user('pranavaraj','pranavaraj@gmail.com','000000000',\n",
    "         city='pondicherry')"
   ]
  },
  {
   "cell_type": "code",
   "execution_count": 5,
   "metadata": {},
   "outputs": [
    {
     "data": {
      "text/plain": [
       "{'firstname': 'pranavaraj',\n",
       " 'mailid': 'pranavarj@gmail.com',\n",
       " 'phonenumber': '0000000000',\n",
       " 'age': 23,\n",
       " 'city': 'pondicherry'}"
      ]
     },
     "execution_count": 5,
     "metadata": {},
     "output_type": "execute_result"
    }
   ],
   "source": [
    "add_user('pranavaraj','pranavarj@gmail.com','0000000000',\n",
    "         city='pondicherry',age=23)"
   ]
  },
  {
   "cell_type": "code",
   "execution_count": 6,
   "metadata": {},
   "outputs": [],
   "source": [
    "def order_food(*items):\n",
    "    cart=[]\n",
    "    for item in items:\n",
    "        cart.append(item)\n",
    "        return cart"
   ]
  },
  {
   "cell_type": "code",
   "execution_count": 7,
   "metadata": {},
   "outputs": [
    {
     "name": "stdout",
     "output_type": "stream",
     "text": [
      "['chilly chicken']\n"
     ]
    }
   ],
   "source": [
    "lunch=order_food('chilly chicken','butter chicken',\n",
    "                 'butter rotti','juice')\n",
    "print(lunch)"
   ]
  },
  {
   "cell_type": "code",
   "execution_count": 9,
   "metadata": {},
   "outputs": [],
   "source": [
    "def sum_all_numbers(*numbers):\n",
    "    total=sum(numbers)\n",
    "    return total\n",
    "\n"
   ]
  },
  {
   "cell_type": "code",
   "execution_count": 12,
   "metadata": {},
   "outputs": [
    {
     "data": {
      "text/plain": [
       "114"
      ]
     },
     "execution_count": 12,
     "metadata": {},
     "output_type": "execute_result"
    }
   ],
   "source": [
    "sum_all_numbers(1,20,3,40,50)"
   ]
  },
  {
   "cell_type": "code",
   "execution_count": 15,
   "metadata": {},
   "outputs": [],
   "source": [
    "def calculate_area(length,height):\n",
    "    \"\"\"\n",
    "    to calculate the rectangle area:\n",
    "    calculate_area(length of rectange,height of rectangle)\n",
    "    \"\"\"\n",
    "    rectangle_area=length*height\n",
    "    return rectangle_a"
   ]
  },
  {
   "cell_type": "code",
   "execution_count": 37,
   "metadata": {},
   "outputs": [
    {
     "name": "stdout",
     "output_type": "stream",
     "text": [
      "Help on function calculate_area in module __main__:\n",
      "\n",
      "calculate_area(length, height)\n",
      "    to calculate the rectangle area:\n",
      "    calculate_area(length of rectange,height of rectangle)\n",
      "\n"
     ]
    }
   ],
   "source": [
    "help(calculate_area)"
   ]
  },
  {
   "cell_type": "code",
   "execution_count": 6,
   "metadata": {},
   "outputs": [],
   "source": [
    "#class\n",
    "class amazonaccount:\n",
    "    message='welcome to amazon'\n",
    "    "
   ]
  },
  {
   "cell_type": "code",
   "execution_count": 7,
   "metadata": {},
   "outputs": [],
   "source": [
    "#object\n",
    "pranav=amazonaccount()\n",
    "kishore=amazonaccount()\n"
   ]
  },
  {
   "cell_type": "code",
   "execution_count": 8,
   "metadata": {},
   "outputs": [
    {
     "data": {
      "text/plain": [
       "'welcome to amazon'"
      ]
     },
     "execution_count": 8,
     "metadata": {},
     "output_type": "execute_result"
    }
   ],
   "source": [
    "pranav.message"
   ]
  },
  {
   "cell_type": "code",
   "execution_count": 9,
   "metadata": {},
   "outputs": [
    {
     "data": {
      "text/plain": [
       "'welcome to amazon'"
      ]
     },
     "execution_count": 9,
     "metadata": {},
     "output_type": "execute_result"
    }
   ],
   "source": [
    "kishore.message"
   ]
  },
  {
   "cell_type": "code",
   "execution_count": 10,
   "metadata": {},
   "outputs": [
    {
     "name": "stdout",
     "output_type": "stream",
     "text": [
      "object created\n"
     ]
    }
   ],
   "source": [
    "class amazonaccount:\n",
    "    #constructor\n",
    "    def __init__(self):\n",
    "        print(f'object created')\n",
    "    #destructor\n",
    "    def __del__(self):\n",
    "        print(f'object deleted')\n",
    "pranav=amazonaccount()\n"
   ]
  },
  {
   "cell_type": "code",
   "execution_count": 11,
   "metadata": {},
   "outputs": [
    {
     "name": "stdout",
     "output_type": "stream",
     "text": [
      "object deleted\n"
     ]
    }
   ],
   "source": [
    "del pranav"
   ]
  },
  {
   "cell_type": "code",
   "execution_count": 15,
   "metadata": {},
   "outputs": [
    {
     "name": "stdout",
     "output_type": "stream",
     "text": [
      "<__main__.msg object at 0x7fb4dffd6b50> 0\n"
     ]
    }
   ],
   "source": [
    "class msg:\n",
    "    a='welcome class'\n",
    "m1=msg()    \n",
    "print(m1,0)"
   ]
  },
  {
   "cell_type": "code",
   "execution_count": 16,
   "metadata": {},
   "outputs": [],
   "source": [
    "class student:\n",
    "    def student(self,name,rno,course,mark):\n",
    "        self.name=name\n",
    "        self.rno=rno\n",
    "        self.course=course\n",
    "        self.mark=mark\n",
    "    def display(self):\n",
    "        print('name:',self.name)\n",
    "        print('rno:',self.rno)\n",
    "        print(f'course.{self.course}\\n mark:{self.mark}')\n",
    "        s=student()\n",
    "        s.stuinfo('pranav',1001,'python',98)\n",
    "        s.display()"
   ]
  },
  {
   "cell_type": "code",
   "execution_count": 19,
   "metadata": {},
   "outputs": [],
   "source": [
    "class student:\n",
    "    def __init__(self,name,rno,course,mark):\n",
    "        self.name=name\n",
    "        self.rno=rno\n",
    "        self.course=course\n",
    "        self.mark=mark\n",
    "    def display(self):\n",
    "        print(f'name:{self.name}\\n rno:{self.rno}\\n course:{self.course}\\n mark:{self.mark}')\n",
    "        def __del__(self):\n",
    "            print('object destroyed')\n"
   ]
  },
  {
   "cell_type": "code",
   "execution_count": 20,
   "metadata": {},
   "outputs": [
    {
     "name": "stdout",
     "output_type": "stream",
     "text": [
      "name:pranav\n",
      " rno:1002\n",
      " course:sql\n",
      " mark:98\n"
     ]
    }
   ],
   "source": [
    "m1=student('pranav',1002,'sql',98)\n",
    "m1.display()\n",
    "del m1"
   ]
  },
  {
   "cell_type": "code",
   "execution_count": 2,
   "metadata": {},
   "outputs": [],
   "source": [
    "#class\n",
    "class amazonaccount:\n",
    "    #public class variables\n",
    "    message='welcome to amazon'\n",
    "    #private class variables\n",
    "    __default_delivery=7\n",
    "    #constuctor\n",
    "    def __init__(self,name,mail):\n",
    "        #store argument in object varibles\n",
    "        self.name=name\n",
    "        self.__mail=mail\n",
    "        print(f'hello{self.name}!\\n{self.message}')\n"
   ]
  },
  {
   "cell_type": "code",
   "execution_count": 3,
   "metadata": {},
   "outputs": [],
   "source": [
    "#object 01\n",
    "pranavaraj=('pranavarj','pranav@gmail.com')"
   ]
  },
  {
   "cell_type": "code",
   "execution_count": 5,
   "metadata": {},
   "outputs": [
    {
     "ename": "AttributeError",
     "evalue": "'tuple' object has no attribute '__mail'",
     "output_type": "error",
     "traceback": [
      "\u001b[0;31m---------------------------------------------------------------------------\u001b[0m",
      "\u001b[0;31mAttributeError\u001b[0m                            Traceback (most recent call last)",
      "Cell \u001b[0;32mIn[5], line 1\u001b[0m\n\u001b[0;32m----> 1\u001b[0m \u001b[43mpranavaraj\u001b[49m\u001b[38;5;241;43m.\u001b[39;49m\u001b[43m__mail\u001b[49m\n",
      "\u001b[0;31mAttributeError\u001b[0m: 'tuple' object has no attribute '__mail'"
     ]
    }
   ],
   "source": [
    "pranavaraj.__mail"
   ]
  },
  {
   "cell_type": "code",
   "execution_count": 12,
   "metadata": {},
   "outputs": [],
   "source": [
    "#parent class or primary class\n",
    "class amazonaccount:\n",
    "    __default_delivery=7\n",
    "    welcomemessage='wecome to amzon acco\n",
    "    def __init__(self,name,mobile,email):\n",
    "        def shopping(self,item):\n",
    "            print(f'{self.name} bought{item}')\n",
    "        def delivery(self):\n",
    "            print(f'your order will be deliverd in{self.__default_delivery}')    \n",
    "        def __deactive_account(self):\n",
    "            print(f'{self.name} amazon deactivate successfully')\n",
    "            "
   ]
  },
  {
   "cell_type": "code",
   "execution_count": 13,
   "metadata": {},
   "outputs": [],
   "source": [
    "pranavaraj=amazonaccount('pranavaraj',9870654,'pranavarj@gmail.com')"
   ]
  },
  {
   "cell_type": "code",
   "execution_count": 5,
   "metadata": {},
   "outputs": [],
   "source": [
    "\n",
    "class standrad_account:\n",
    "    __default_delivery=7\n",
    "    def __init_(self,name,mobile,email):\n",
    "        self.name=name\n",
    "        self,mobile=mobile\n",
    "        self.email=email\n",
    "        print(self.welcomemessage)\n",
    "    def shopping(self,item):\n",
    "        print(f'{self.name} bought {items}')    \n",
    "    def delivery(self):\n",
    "        print(f'your order will be delivered in{self.__default_delivery}')    \n",
    "    def deactivate_account(slef):\n",
    "        print(f'{self.name}account deactivae successfully')    \n",
    "        \n",
    "\n",
    "\n"
   ]
  },
  {
   "cell_type": "code",
   "execution_count": null,
   "metadata": {},
   "outputs": [],
   "source": [
    "\n",
    "class premium_account(standrad_account):\n",
    "    welcomemessage='welcome to aatomz **p\n",
    "    # same function name in parent and child class\n",
    "    def delivery(self):\n",
    "        premium_delivery=1\n",
    "        print(f'''your order will be delivered\n",
    "              in{premium_delivery}days''')\n",
    "        def print(differnt forms of polymorphism in print in the correct form in the correct positonal order)"
   ]
  }
 ],
 "metadata": {
  "kernelspec": {
   "display_name": ".venv",
   "language": "python",
   "name": "python3"
  },
  "language_info": {
   "codemirror_mode": {
    "name": "ipython",
    "version": 3
   },
   "file_extension": ".py",
   "mimetype": "text/x-python",
   "name": "python",
   "nbconvert_exporter": "python",
   "pygments_lexer": "ipython3",
   "version": "3.11.4"
  }
 },
 "nbformat": 4,
 "nbformat_minor": 2
}
